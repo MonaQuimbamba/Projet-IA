{
 "cells": [
  {
   "cell_type": "code",
   "execution_count": 128,
   "id": "971e6f01",
   "metadata": {},
   "outputs": [],
   "source": [
    "import networkx as nx\n",
    "import numpy as np\n",
    "import matplotlib.pyplot as plt\n",
    "import pylab\n",
    "from random import randint"
   ]
  },
  {
   "cell_type": "markdown",
   "id": "f40b9511",
   "metadata": {},
   "source": [
    "## Algorithme génétique pour le probleme du voyageur de commerce"
   ]
  },
  {
   "cell_type": "markdown",
   "id": "0bd85079",
   "metadata": {},
   "source": [
    "***Probleme :***\n",
    "\n",
    ". Soit un graphe non orienté complet valué (tous les sommets sont connectés entre\n",
    "eux avec des aretes à cout positif) contenant n sommets.\n",
    ". Extraire un circuit Hamiltonien le plus court (passant par tous les sommets du\n",
    "graphe une et une seule fois)\n"
   ]
  },
  {
   "cell_type": "code",
   "execution_count": 129,
   "id": "9d1bd0d4",
   "metadata": {},
   "outputs": [
    {
     "data": {
      "image/png": "[encoded data removed]",
      "text/plain": [
       "<Figure size 432x288 with 1 Axes>"
      ]
     },
     "metadata": {},
     "output_type": "display_data"
    }
   ],
   "source": [
    "G = nx.Graph()  # DiGraph\n",
    "G.add_edges_from([('A', 'B'),('C','D'),('G','D')], weight=1)\n",
    "\n",
    "G.add_edges_from([('D','A'),('D','E'),('B','D'),('D','E')], weight=2)\n",
    "\n",
    "G.add_edges_from([('B','C'),('E','F')], weight=3)\n",
    "\n",
    "G.add_edges_from([('G','E'),('G','A')], weight=10)\n",
    "\n",
    "G.add_edges_from([('C','F')], weight=4)\n",
    "\n",
    "edge_labels=dict([((u,v,),d['weight'])for u,v,d in G.edges(data=True)])\n",
    "pos=nx.spring_layout(G)\n",
    "nx.draw_networkx_edge_labels(G,pos,edge_labels=edge_labels)\n",
    "nx.draw_networkx(G,pos, node_size=1500,edge_cmap=plt.cm.Reds)\n",
    "pylab.show()"
   ]
  },
  {
   "cell_type": "markdown",
   "id": "cdaf8083",
   "metadata": {},
   "source": [
    "## ***Quelques indications :***\n",
    "\n",
    "* .Individu = un circuit quelconque (passage par tous les sommets du graphe)\n",
    "\n",
    "* . Fonction d'evaluation : La valeur d'adaptation doit etre croissante avec l'adaptation de la solution du probleme .\n",
    "\n",
    "* . La valeur d'adaptation est inversement proportionnel à la distance du chemin de chaque individu (car on cherche le circuit Hamiltonien le plus court)"
   ]
  },
  {
   "cell_type": "code",
   "execution_count": 185,
   "id": "8885e6c0",
   "metadata": {},
   "outputs": [],
   "source": [
    "les_sommets= np.array(list(G.nodes()))\n",
    "nb_sommets = len(les_sommets)\n",
    "les_aretes=edge_labels\n",
    "longévité=10\n",
    "nb_croisement=6\n",
    "nb_mutation=3\n",
    "valeur_adaptation=10"
   ]
  },
  {
   "cell_type": "code",
   "execution_count": 168,
   "id": "8cba9a41",
   "metadata": {},
   "outputs": [],
   "source": [
    "\"\"\"\n",
    "     fonctions intermediaire utilisés pour la création d'un individu\n",
    "\"\"\"\n",
    "def check_path(sommets_close):\n",
    "    s_close=list(set(sommets_close))\n",
    "    return len(s_close)==les_sommets.shape[0]\n",
    "def not_In_close(sommets_close,sommet):\n",
    "    return sommet not in list(set(sommets_close))"
   ]
  },
  {
   "cell_type": "code",
   "execution_count": 191,
   "id": "a9b4e8fe",
   "metadata": {},
   "outputs": [],
   "source": [
    "\"\"\"\n",
    "   (i) Pour chaque sommet on fait un individu\n",
    "    \n",
    "    (ii) Création d'un individu , on prend la liste de ses sommets adjacents,  on prend le premier sommet\n",
    "    adjacent 's' on fait une arete et puis 's' devient le sommet courrant on fait celle jusqu'à parcourrir\n",
    "    l'ensemble des sommets du graphe.\n",
    "    pour chaque sommet voisin du sommet courant qu'on a déjà parcouru , on l'ajoute à une liste de sommet_close\n",
    "    pour s'assurer qu'on a bien récupéré l'ensemble des sommets du graph et pour éviter des blocage par exemple \n",
    "    dans le cas où un somment courant aurait déjà l'ensemble de ses voisins dans la  liste de sommet_close\n",
    "    mais que l'individu n'a pas encore  l'ensemble de sommets du graph dans son ADN , on revient à arriere et \n",
    "    on parcours que les voisins pas encore visités (iv) \n",
    "\n",
    "    (iii) et à la fin on ajoute cet individu dans la population \n",
    "    renvoyer une list de dicticionnaire , chaque individu est répresenté par un dictionnaire\n",
    "\"\"\"\n",
    "def birth_population():\n",
    "    population=[]\n",
    "    for sommet in les_sommets: # (i)\n",
    "        if sommet not in [ list(dic.keys())[0] for dic in population ]: #(i)\n",
    "            new_ind={}\n",
    "            sommets_close=[]\n",
    "            sommets_close.append(sommet)\n",
    "\n",
    "            while not check_path(sommets_close):\n",
    "\n",
    "\n",
    "                if all(x in sommets_close for x in G.neighbors(sommet)): # (iv)\n",
    "                    sommet=sommets_close[0]\n",
    "\n",
    "\n",
    "                for s in  G.neighbors(sommet):\n",
    "                    if (sommet,s) not in list(les_aretes.keys()): #(ii)\n",
    "                        if (s,sommet) in list(les_aretes.keys()):\n",
    "                            if (s,sommet) not in list(new_ind.keys()) and not_In_close(sommets_close,s):\n",
    "                                new_ind[(s,sommet)]=les_aretes[(s,sommet)]\n",
    "                                sommet=s\n",
    "                                sommets_close.append(s)\n",
    "                                break\n",
    "                    else:\n",
    "                        if (sommet,s) not in list(new_ind.keys()) and not_In_close(sommets_close,s): # \n",
    "                                    new_ind[(sommet,s)]=les_aretes[(sommet,s)]\n",
    "                                    sommet=s\n",
    "                                    sommets_close.append(s)\n",
    "                                    break\n",
    "            population.append(new_ind) # (iii)\n",
    "    return population"
   ]
  },
  {
   "cell_type": "code",
   "execution_count": 202,
   "id": "abc489da",
   "metadata": {},
   "outputs": [],
   "source": [
    "def sommet_remain(sommets,sommet_close):\n",
    "    res=[]\n",
    "    for s in sommets:\n",
    "        if s not in sommet_close:\n",
    "            res.append(s)\n",
    "    return res\n",
    "    "
   ]
  },
  {
   "cell_type": "code",
   "execution_count": 233,
   "id": "d5636169",
   "metadata": {},
   "outputs": [],
   "source": [
    "def birth_population1():\n",
    "    population=[]\n",
    "    for sommet in les_sommets:\n",
    "        new_ind={}\n",
    "        sommets_close=[]\n",
    "        sommets_close.append(sommet)\n",
    "        for voisin in G.neighbors(sommet):\n",
    "            if(sommet,voisin) not in list(les_aretes.keys()):\n",
    "                  if (voisin,sommet) in list(les_aretes.keys()):\n",
    "                            if (voisin,sommet) not in list(new_ind.keys()):\n",
    "                                new_ind[(voisin,sommet)]=les_aretes[(voisin,sommet)]\n",
    "                                sommets_close.append(voisin)\n",
    "                               \n",
    "            else:\n",
    "                if (sommet,voisin) not in list(new_ind.keys()): # \n",
    "                        new_ind[(sommet,voisin)]=les_aretes[(sommet,voisin)]\n",
    "                        sommets_close.append(voisin)\n",
    "                        \n",
    "        # ajouter le reste \n",
    "        sommet_not_in= sommet_remain(les_sommets,sommets_close)\n",
    "        sommet_already_in=sommets_close\n",
    "        \n",
    "        for s in sommet_not_in:\n",
    "            for ss in sommet_already_in:\n",
    "    \n",
    "                if(s,ss) not in list(les_aretes.keys()):\n",
    "                      if (ss,s) in list(les_aretes.keys()):\n",
    "                            if (ss,s) not in list(new_ind.keys()):\n",
    "                                new_ind[(ss,s)]=les_aretes[(ss,s)]\n",
    "                                sommets_close.append(s)\n",
    "                        \n",
    "                                break\n",
    "                else:\n",
    "                    if (s,ss) not in list(new_ind.keys()): # \n",
    "                        new_ind[(s,ss)]=les_aretes[(s,ss)]\n",
    "                        sommets_close.append(s)\n",
    "                        break\n",
    "                        \n",
    "                \n",
    "                \n",
    "            \n",
    "          \n",
    "        population.append(new_ind)\n",
    "   \n",
    "    return population\n",
    "        \n",
    "            \n",
    "        "
   ]
  },
  {
   "cell_type": "code",
   "execution_count": 184,
   "id": "1f407d9f",
   "metadata": {},
   "outputs": [],
   "source": [
    "\"\"\"\n",
    "    \n",
    "\"\"\"\n",
    "def fitness(ind):\n",
    "    return  sum(list(ind.values())) <= valeur_adaptation"
   ]
  },
  {
   "cell_type": "code",
   "execution_count": null,
   "id": "df3ce579",
   "metadata": {},
   "outputs": [],
   "source": [
    "def brith(population):\n",
    "    dad=population[0]\n",
    "    mom=population[1]\n",
    "    child={}\n",
    "    \n",
    "    \n",
    "    return \"\"\n"
   ]
  },
  {
   "cell_type": "code",
   "execution_count": null,
   "id": "9810d91d",
   "metadata": {},
   "outputs": [],
   "source": [
    "def mutation(population):\n",
    "    return \"\""
   ]
  },
  {
   "cell_type": "code",
   "execution_count": null,
   "id": "a3b07eb4",
   "metadata": {},
   "outputs": [],
   "source": [
    "def death(population):\n",
    "    return \"\""
   ]
  },
  {
   "cell_type": "code",
   "execution_count": null,
   "id": "6ad74080",
   "metadata": {},
   "outputs": [],
   "source": []
  }
 ],
 "metadata": {
  "kernelspec": {
   "display_name": "Python 3",
   "language": "python",
   "name": "python3"
  },
  "language_info": {
   "codemirror_mode": {
    "name": "ipython",
    "version": 3
   },
   "file_extension": ".py",
   "mimetype": "text/x-python",
   "name": "python",
   "nbconvert_exporter": "python",
   "pygments_lexer": "ipython3",
   "version": "3.9.7"
  }
 },
 "nbformat": 4,
 "nbformat_minor": 5
}
