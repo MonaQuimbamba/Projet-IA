{
 "cells": [
  {
   "cell_type": "code",
   "execution_count": 1,
   "id": "971e6f01",
   "metadata": {},
   "outputs": [],
   "source": [
    "import networkx as nx\n",
    "import numpy as np\n",
    "import matplotlib.pyplot as plt\n",
    "import pylab\n",
    "import random\n",
    "from random import randint\n",
    "import math "
   ]
  },
  {
   "cell_type": "markdown",
   "id": "f40b9511",
   "metadata": {},
   "source": [
    "## Algorithme génétique pour le probleme du voyageur de commerce"
   ]
  },
  {
   "cell_type": "markdown",
   "id": "0bd85079",
   "metadata": {},
   "source": [
    "***Probleme :***\n",
    "\n",
    ". Soit un graphe non orienté complet valué (tous les sommets sont connectés entre\n",
    "eux avec des aretes à cout positif) contenant n sommets.\n",
    ". Extraire un circuit Hamiltonien le plus court (passant par tous les sommets du\n",
    "graphe une et une seule fois)\n"
   ]
  },
  {
   "cell_type": "markdown",
   "id": "cdaf8083",
   "metadata": {},
   "source": [
    "## ***Quelques indications :***\n",
    "\n",
    "* .Individu = un circuit quelconque (passage par tous les sommets du graphe)\n",
    "\n",
    "* . Fonction d'evaluation : La valeur d'adaptation doit etre croissante avec l'adaptation de la solution du probleme .\n",
    "\n",
    "* . La valeur d'adaptation est inversement proportionnel à la distance du chemin de chaque individu (car on cherche le circuit Hamiltonien le plus court)\n",
    "\n",
    "\n",
    "\n",
    "### References \n",
    "\n",
    " * http://deptinfo.unice.fr/twiki/pub/Linfo/PlanningDesSoutenances20032004/Radet-Souquet.pdf\n",
    "\n",
    " * https://www.ripublication.com/ijcir17/ijcirv13n7_15.pdf\n",
    " \n",
    " * https://www.researchgate.net/publication/282733130_Analyse_des_performances_d'operateurs_de_mutation_genetique_a_la_resolution_du_Probleme_de_Voyageur_de_Commerce"
   ]
  },
  {
   "cell_type": "code",
   "execution_count": 2,
   "id": "ac7fdafa",
   "metadata": {},
   "outputs": [],
   "source": [
    "nb_sommets=5\n",
    "poids_max=12"
   ]
  },
  {
   "cell_type": "code",
   "execution_count": 3,
   "id": "5c7cb144",
   "metadata": {
    "scrolled": true
   },
   "outputs": [
    {
     "data": {
      "image/png": "[encoded data removed]",
      "text/plain": [
       "<Figure size 432x288 with 1 Axes>"
      ]
     },
     "metadata": {},
     "output_type": "display_data"
    }
   ],
   "source": [
    "G=nx.Graph()\n",
    "\n",
    "G.add_weighted_edges_from( (i,j,randint(1,poids_max)) for i in range(nb_sommets) for j in range(i+1,nb_sommets))\n",
    "\n",
    "G.edges(data=True)\n",
    "\n",
    "edge_labels=dict([((u,v,),d['weight'])for u,v,d in G.edges(data=True)])\n",
    "pos=nx.spring_layout(G)\n",
    "nx.draw_networkx_edge_labels(G,pos,edge_labels=edge_labels)\n",
    "nx.draw_networkx(G,pos, node_size=1500,edge_cmap=plt.cm.Reds)\n",
    "pylab.show()  "
   ]
  },
  {
   "cell_type": "code",
   "execution_count": 6,
   "id": "25950125",
   "metadata": {},
   "outputs": [],
   "source": [
    "\"\"\"\n",
    "  Tous les somments sont connectés entre eux avec des aretes à coût positif\n",
    "  donc on fait l'ensemble des chemin pour chaque sommet\n",
    "  \n",
    "\"\"\"\n",
    "def ajouter_les_poids(genes,edge_labels):\n",
    "    res=[]\n",
    "    for ind in genes:\n",
    "        new_ind={}\n",
    "        for i in range(len(ind)-1):\n",
    "            if (ind[i],ind[i+1]) not in list(edge_labels.keys()):\n",
    "                if (ind[i+1],ind[i]) in list(edge_labels.keys()):\n",
    "                    new_ind[(ind[i+1],ind[i])]=edge_labels[(ind[i+1],ind[i])]\n",
    "            else:\n",
    "                new_ind[(ind[i],ind[i+1])]=edge_labels[(ind[i],ind[i+1])]\n",
    "                \n",
    "        res.append(new_ind)\n",
    "    return res\n",
    "    \n",
    "def create_population(G,edge_labels):\n",
    "    genes = []\n",
    "    for node in G.nodes():\n",
    "        for n in G.nodes():\n",
    "            for path in nx.all_simple_paths(G, source=node, target=n):\n",
    "                if len(path)==len(G.nodes()):\n",
    "                    genes.append(path)\n",
    "    return ajouter_les_poids(genes,edge_labels)"
   ]
  },
  {
   "cell_type": "code",
   "execution_count": 7,
   "id": "804796df",
   "metadata": {},
   "outputs": [
    {
     "data": {
      "text/plain": [
       "[{(0, 2): 11, (2, 3): 3, (3, 4): 3, (1, 4): 3},\n",
       " {(0, 2): 11, (2, 4): 2, (3, 4): 3, (1, 3): 3},\n",
       " {(0, 3): 3, (2, 3): 3, (2, 4): 2, (1, 4): 3},\n",
       " {(0, 3): 3, (3, 4): 3, (2, 4): 2, (1, 2): 10},\n",
       " {(0, 4): 1, (2, 4): 2, (2, 3): 3, (1, 3): 3},\n",
       " {(0, 4): 1, (3, 4): 3, (2, 3): 3, (1, 2): 10},\n",
       " {(0, 1): 12, (1, 3): 3, (3, 4): 3, (2, 4): 2},\n",
       " {(0, 1): 12, (1, 4): 3, (3, 4): 3, (2, 3): 3},\n",
       " {(0, 3): 3, (1, 3): 3, (1, 4): 3, (2, 4): 2},\n",
       " {(0, 3): 3, (3, 4): 3, (1, 4): 3, (1, 2): 10},\n",
       " {(0, 4): 1, (1, 4): 3, (1, 3): 3, (2, 3): 3},\n",
       " {(0, 4): 1, (3, 4): 3, (1, 3): 3, (1, 2): 10},\n",
       " {(0, 1): 12, (1, 2): 10, (2, 4): 2, (3, 4): 3},\n",
       " {(0, 1): 12, (1, 4): 3, (2, 4): 2, (2, 3): 3},\n",
       " {(0, 2): 11, (1, 2): 10, (1, 4): 3, (3, 4): 3},\n",
       " {(0, 2): 11, (2, 4): 2, (1, 4): 3, (1, 3): 3},\n",
       " {(0, 4): 1, (1, 4): 3, (1, 2): 10, (2, 3): 3},\n",
       " {(0, 4): 1, (2, 4): 2, (1, 2): 10, (1, 3): 3},\n",
       " {(0, 1): 12, (1, 2): 10, (2, 3): 3, (3, 4): 3},\n",
       " {(0, 1): 12, (1, 3): 3, (2, 3): 3, (2, 4): 2},\n",
       " {(0, 2): 11, (1, 2): 10, (1, 3): 3, (3, 4): 3},\n",
       " {(0, 2): 11, (2, 3): 3, (1, 3): 3, (1, 4): 3},\n",
       " {(0, 3): 3, (1, 3): 3, (1, 2): 10, (2, 4): 2},\n",
       " {(0, 3): 3, (2, 3): 3, (1, 2): 10, (1, 4): 3},\n",
       " {(1, 2): 10, (2, 3): 3, (3, 4): 3, (0, 4): 1},\n",
       " {(1, 2): 10, (2, 4): 2, (3, 4): 3, (0, 3): 3},\n",
       " {(1, 3): 3, (2, 3): 3, (2, 4): 2, (0, 4): 1},\n",
       " {(1, 3): 3, (3, 4): 3, (2, 4): 2, (0, 2): 11},\n",
       " {(1, 4): 3, (2, 4): 2, (2, 3): 3, (0, 3): 3},\n",
       " {(1, 4): 3, (3, 4): 3, (2, 3): 3, (0, 2): 11},\n",
       " {(0, 1): 12, (0, 3): 3, (3, 4): 3, (2, 4): 2},\n",
       " {(0, 1): 12, (0, 4): 1, (3, 4): 3, (2, 3): 3},\n",
       " {(1, 3): 3, (0, 3): 3, (0, 4): 1, (2, 4): 2},\n",
       " {(1, 3): 3, (3, 4): 3, (0, 4): 1, (0, 2): 11},\n",
       " {(1, 4): 3, (0, 4): 1, (0, 3): 3, (2, 3): 3},\n",
       " {(1, 4): 3, (3, 4): 3, (0, 3): 3, (0, 2): 11},\n",
       " {(0, 1): 12, (0, 2): 11, (2, 4): 2, (3, 4): 3},\n",
       " {(0, 1): 12, (0, 4): 1, (2, 4): 2, (2, 3): 3},\n",
       " {(1, 2): 10, (0, 2): 11, (0, 4): 1, (3, 4): 3},\n",
       " {(1, 2): 10, (2, 4): 2, (0, 4): 1, (0, 3): 3},\n",
       " {(1, 4): 3, (0, 4): 1, (0, 2): 11, (2, 3): 3},\n",
       " {(1, 4): 3, (2, 4): 2, (0, 2): 11, (0, 3): 3},\n",
       " {(0, 1): 12, (0, 2): 11, (2, 3): 3, (3, 4): 3},\n",
       " {(0, 1): 12, (0, 3): 3, (2, 3): 3, (2, 4): 2},\n",
       " {(1, 2): 10, (0, 2): 11, (0, 3): 3, (3, 4): 3},\n",
       " {(1, 2): 10, (2, 3): 3, (0, 3): 3, (0, 4): 1},\n",
       " {(1, 3): 3, (0, 3): 3, (0, 2): 11, (2, 4): 2},\n",
       " {(1, 3): 3, (2, 3): 3, (0, 2): 11, (0, 4): 1},\n",
       " {(1, 2): 10, (1, 3): 3, (3, 4): 3, (0, 4): 1},\n",
       " {(1, 2): 10, (1, 4): 3, (3, 4): 3, (0, 3): 3},\n",
       " {(2, 3): 3, (1, 3): 3, (1, 4): 3, (0, 4): 1},\n",
       " {(2, 3): 3, (3, 4): 3, (1, 4): 3, (0, 1): 12},\n",
       " {(2, 4): 2, (1, 4): 3, (1, 3): 3, (0, 3): 3},\n",
       " {(2, 4): 2, (3, 4): 3, (1, 3): 3, (0, 1): 12},\n",
       " {(0, 2): 11, (0, 3): 3, (3, 4): 3, (1, 4): 3},\n",
       " {(0, 2): 11, (0, 4): 1, (3, 4): 3, (1, 3): 3},\n",
       " {(2, 3): 3, (0, 3): 3, (0, 4): 1, (1, 4): 3},\n",
       " {(2, 3): 3, (3, 4): 3, (0, 4): 1, (0, 1): 12},\n",
       " {(2, 4): 2, (0, 4): 1, (0, 3): 3, (1, 3): 3},\n",
       " {(2, 4): 2, (3, 4): 3, (0, 3): 3, (0, 1): 12},\n",
       " {(0, 2): 11, (0, 1): 12, (1, 4): 3, (3, 4): 3},\n",
       " {(0, 2): 11, (0, 4): 1, (1, 4): 3, (1, 3): 3},\n",
       " {(1, 2): 10, (0, 1): 12, (0, 4): 1, (3, 4): 3},\n",
       " {(1, 2): 10, (1, 4): 3, (0, 4): 1, (0, 3): 3},\n",
       " {(2, 4): 2, (0, 4): 1, (0, 1): 12, (1, 3): 3},\n",
       " {(2, 4): 2, (1, 4): 3, (0, 1): 12, (0, 3): 3},\n",
       " {(0, 2): 11, (0, 1): 12, (1, 3): 3, (3, 4): 3},\n",
       " {(0, 2): 11, (0, 3): 3, (1, 3): 3, (1, 4): 3},\n",
       " {(1, 2): 10, (0, 1): 12, (0, 3): 3, (3, 4): 3},\n",
       " {(1, 2): 10, (1, 3): 3, (0, 3): 3, (0, 4): 1},\n",
       " {(2, 3): 3, (0, 3): 3, (0, 1): 12, (1, 4): 3},\n",
       " {(2, 3): 3, (1, 3): 3, (0, 1): 12, (0, 4): 1},\n",
       " {(1, 3): 3, (1, 2): 10, (2, 4): 2, (0, 4): 1},\n",
       " {(1, 3): 3, (1, 4): 3, (2, 4): 2, (0, 2): 11},\n",
       " {(2, 3): 3, (1, 2): 10, (1, 4): 3, (0, 4): 1},\n",
       " {(2, 3): 3, (2, 4): 2, (1, 4): 3, (0, 1): 12},\n",
       " {(3, 4): 3, (1, 4): 3, (1, 2): 10, (0, 2): 11},\n",
       " {(3, 4): 3, (2, 4): 2, (1, 2): 10, (0, 1): 12},\n",
       " {(0, 3): 3, (0, 2): 11, (2, 4): 2, (1, 4): 3},\n",
       " {(0, 3): 3, (0, 4): 1, (2, 4): 2, (1, 2): 10},\n",
       " {(2, 3): 3, (0, 2): 11, (0, 4): 1, (1, 4): 3},\n",
       " {(2, 3): 3, (2, 4): 2, (0, 4): 1, (0, 1): 12},\n",
       " {(3, 4): 3, (0, 4): 1, (0, 2): 11, (1, 2): 10},\n",
       " {(3, 4): 3, (2, 4): 2, (0, 2): 11, (0, 1): 12},\n",
       " {(0, 3): 3, (0, 1): 12, (1, 4): 3, (2, 4): 2},\n",
       " {(0, 3): 3, (0, 4): 1, (1, 4): 3, (1, 2): 10},\n",
       " {(1, 3): 3, (0, 1): 12, (0, 4): 1, (2, 4): 2},\n",
       " {(1, 3): 3, (1, 4): 3, (0, 4): 1, (0, 2): 11},\n",
       " {(3, 4): 3, (0, 4): 1, (0, 1): 12, (1, 2): 10},\n",
       " {(3, 4): 3, (1, 4): 3, (0, 1): 12, (0, 2): 11},\n",
       " {(0, 3): 3, (0, 1): 12, (1, 2): 10, (2, 4): 2},\n",
       " {(0, 3): 3, (0, 2): 11, (1, 2): 10, (1, 4): 3},\n",
       " {(1, 3): 3, (0, 1): 12, (0, 2): 11, (2, 4): 2},\n",
       " {(1, 3): 3, (1, 2): 10, (0, 2): 11, (0, 4): 1},\n",
       " {(2, 3): 3, (0, 2): 11, (0, 1): 12, (1, 4): 3},\n",
       " {(2, 3): 3, (1, 2): 10, (0, 1): 12, (0, 4): 1},\n",
       " {(1, 4): 3, (1, 2): 10, (2, 3): 3, (0, 3): 3},\n",
       " {(1, 4): 3, (1, 3): 3, (2, 3): 3, (0, 2): 11},\n",
       " {(2, 4): 2, (1, 2): 10, (1, 3): 3, (0, 3): 3},\n",
       " {(2, 4): 2, (2, 3): 3, (1, 3): 3, (0, 1): 12},\n",
       " {(3, 4): 3, (1, 3): 3, (1, 2): 10, (0, 2): 11},\n",
       " {(3, 4): 3, (2, 3): 3, (1, 2): 10, (0, 1): 12},\n",
       " {(0, 4): 1, (0, 2): 11, (2, 3): 3, (1, 3): 3},\n",
       " {(0, 4): 1, (0, 3): 3, (2, 3): 3, (1, 2): 10},\n",
       " {(2, 4): 2, (0, 2): 11, (0, 3): 3, (1, 3): 3},\n",
       " {(2, 4): 2, (2, 3): 3, (0, 3): 3, (0, 1): 12},\n",
       " {(3, 4): 3, (0, 3): 3, (0, 2): 11, (1, 2): 10},\n",
       " {(3, 4): 3, (2, 3): 3, (0, 2): 11, (0, 1): 12},\n",
       " {(0, 4): 1, (0, 1): 12, (1, 3): 3, (2, 3): 3},\n",
       " {(0, 4): 1, (0, 3): 3, (1, 3): 3, (1, 2): 10},\n",
       " {(1, 4): 3, (0, 1): 12, (0, 3): 3, (2, 3): 3},\n",
       " {(1, 4): 3, (1, 3): 3, (0, 3): 3, (0, 2): 11},\n",
       " {(3, 4): 3, (0, 3): 3, (0, 1): 12, (1, 2): 10},\n",
       " {(3, 4): 3, (1, 3): 3, (0, 1): 12, (0, 2): 11},\n",
       " {(0, 4): 1, (0, 1): 12, (1, 2): 10, (2, 3): 3},\n",
       " {(0, 4): 1, (0, 2): 11, (1, 2): 10, (1, 3): 3},\n",
       " {(1, 4): 3, (0, 1): 12, (0, 2): 11, (2, 3): 3},\n",
       " {(1, 4): 3, (1, 2): 10, (0, 2): 11, (0, 3): 3},\n",
       " {(2, 4): 2, (0, 2): 11, (0, 1): 12, (1, 3): 3},\n",
       " {(2, 4): 2, (1, 2): 10, (0, 1): 12, (0, 3): 3}]"
      ]
     },
     "execution_count": 7,
     "metadata": {},
     "output_type": "execute_result"
    }
   ],
   "source": [
    "create_population(G,edge_labels)"
   ]
  },
  {
   "cell_type": "code",
   "execution_count": null,
   "id": "ebf81891",
   "metadata": {},
   "outputs": [],
   "source": []
  }
 ],
 "metadata": {
  "kernelspec": {
   "display_name": "Python 3",
   "language": "python",
   "name": "python3"
  },
  "language_info": {
   "codemirror_mode": {
    "name": "ipython",
    "version": 3
   },
   "file_extension": ".py",
   "mimetype": "text/x-python",
   "name": "python",
   "nbconvert_exporter": "python",
   "pygments_lexer": "ipython3",
   "version": "3.9.7"
  }
 },
 "nbformat": 4,
 "nbformat_minor": 5
}
